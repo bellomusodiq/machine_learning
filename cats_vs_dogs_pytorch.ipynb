{
  "nbformat": 4,
  "nbformat_minor": 0,
  "metadata": {
    "colab": {
      "name": "cats_vs_dogs_pytorch.ipynb",
      "provenance": [],
      "collapsed_sections": [],
      "include_colab_link": true
    },
    "kernelspec": {
      "name": "python3",
      "display_name": "Python 3"
    },
    "accelerator": "GPU"
  },
  "cells": [
    {
      "cell_type": "markdown",
      "metadata": {
        "id": "view-in-github",
        "colab_type": "text"
      },
      "source": [
        "<a href=\"https://colab.research.google.com/github/bellomusodiq/machine_learning/blob/master/cats_vs_dogs_pytorch.ipynb\" target=\"_parent\"><img src=\"https://colab.research.google.com/assets/colab-badge.svg\" alt=\"Open In Colab\"/></a>"
      ]
    },
    {
      "cell_type": "code",
      "metadata": {
        "id": "GQI26fWtV_Fu",
        "colab_type": "code",
        "colab": {}
      },
      "source": [
        "import os\n",
        "import torch\n",
        "import torch.nn as nn\n",
        "import torch.nn.functional as F\n",
        "import torchvision\n",
        "from torchvision import datasets, models, transforms\n",
        "import numpy as np\n",
        "import matplotlib.pyplot as plt\n",
        "import time"
      ],
      "execution_count": 0,
      "outputs": []
    },
    {
      "cell_type": "code",
      "metadata": {
        "id": "Kb7e6JhdX70B",
        "colab_type": "code",
        "outputId": "6b15304e-5d7c-457a-cea5-eb35778f08df",
        "colab": {
          "base_uri": "https://localhost:8080/",
          "height": 34
        }
      },
      "source": [
        "from google.colab import drive\n",
        "drive.mount('/content/drive')"
      ],
      "execution_count": 0,
      "outputs": [
        {
          "output_type": "stream",
          "text": [
            "Drive already mounted at /content/drive; to attempt to forcibly remount, call drive.mount(\"/content/drive\", force_remount=True).\n"
          ],
          "name": "stdout"
        }
      ]
    },
    {
      "cell_type": "code",
      "metadata": {
        "id": "AARltDIx_kYq",
        "colab_type": "code",
        "colab": {}
      },
      "source": [
        "# from pyunpack import Archive\n",
        "# Archive('/content/drive/My Drive/dataset.rar').extractall('/content/drive/My Drive/cats_vs_dogs')"
      ],
      "execution_count": 0,
      "outputs": []
    },
    {
      "cell_type": "code",
      "metadata": {
        "id": "2E2N133lWhGP",
        "colab_type": "code",
        "colab": {}
      },
      "source": [
        "device = torch.device('cuda' if torch.cuda.is_available() else 'cpu')"
      ],
      "execution_count": 0,
      "outputs": []
    },
    {
      "cell_type": "code",
      "metadata": {
        "id": "TnXxL5FPWuyP",
        "colab_type": "code",
        "colab": {}
      },
      "source": [
        "mean = np.array([.485, .456, .406])\n",
        "std = np.array([.229, .224, .225])"
      ],
      "execution_count": 0,
      "outputs": []
    },
    {
      "cell_type": "code",
      "metadata": {
        "id": "pxk8j7k5W5Zy",
        "colab_type": "code",
        "colab": {}
      },
      "source": [
        "data_transforms = {\n",
        "    'train': transforms.Compose([\n",
        "      transforms.RandomResizedCrop(160),\n",
        "      transforms.RandomHorizontalFlip(),\n",
        "      transforms.ToTensor(),\n",
        "      transforms.Normalize(mean, std)\n",
        "    ]),\n",
        "    'val': transforms.Compose([\n",
        "      transforms.Resize(256),\n",
        "      transforms.CenterCrop(160),\n",
        "      transforms.ToTensor(),\n",
        "      transforms.Normalize(mean, std)\n",
        "    ])\n",
        "}"
      ],
      "execution_count": 0,
      "outputs": []
    },
    {
      "cell_type": "code",
      "metadata": {
        "id": "uoTBUiS9cCTW",
        "colab_type": "code",
        "colab": {}
      },
      "source": [
        "data_dir = '/content/drive/My Drive/cats_vs_dogs/dataset/'\n",
        "sets = ['train', 'val']"
      ],
      "execution_count": 0,
      "outputs": []
    },
    {
      "cell_type": "code",
      "metadata": {
        "id": "HZaLmPFPcP-K",
        "colab_type": "code",
        "colab": {}
      },
      "source": [
        "image_datasets = {x: datasets.ImageFolder(os.path.join(data_dir, x),\n",
        "                                          data_transforms[x])\n",
        "                  for x in ['train', 'val']}"
      ],
      "execution_count": 0,
      "outputs": []
    },
    {
      "cell_type": "code",
      "metadata": {
        "id": "yRZJwTtbcyDK",
        "colab_type": "code",
        "colab": {}
      },
      "source": [
        "data_loaders = {x: torch.utils.data.DataLoader(image_datasets[x], batch_size=32,\n",
        "                                               shuffle=True, num_workers=2) \n",
        "                for x in ['train', 'val']}"
      ],
      "execution_count": 0,
      "outputs": []
    },
    {
      "cell_type": "code",
      "metadata": {
        "id": "65l7ZxGfg5E6",
        "colab_type": "code",
        "colab": {}
      },
      "source": [
        "dataset_sizes = {x: len(image_datasets[x]) for x in ['train', 'val']}"
      ],
      "execution_count": 0,
      "outputs": []
    },
    {
      "cell_type": "code",
      "metadata": {
        "id": "ohgV9E1Th5c6",
        "colab_type": "code",
        "outputId": "bcecd736-634c-4e27-8384-1f3a4bbaa00e",
        "colab": {
          "base_uri": "https://localhost:8080/",
          "height": 34
        }
      },
      "source": [
        "class_name = image_datasets['train'].classes\n",
        "class_name"
      ],
      "execution_count": 0,
      "outputs": [
        {
          "output_type": "execute_result",
          "data": {
            "text/plain": [
              "['cats', 'dogs']"
            ]
          },
          "metadata": {
            "tags": []
          },
          "execution_count": 11
        }
      ]
    },
    {
      "cell_type": "code",
      "metadata": {
        "id": "3PIPl2_nipF3",
        "colab_type": "code",
        "colab": {}
      },
      "source": [
        "class ConvNet(nn.Module):\n",
        "    def __init__(self):\n",
        "        super(ConvNet, self).__init__()\n",
        "        self.conv1 = nn.Conv2d(3, 6, 5)\n",
        "        self.pool = nn.MaxPool2d(2, 2)\n",
        "        self.conv2 = nn.Conv2d(6, 18, 5)\n",
        "        self.fc1 = nn.Linear(18 * 37 * 37, 120)\n",
        "        self.fc2 = nn.Linear(120, 84)\n",
        "        self.fc3 = nn.Linear(84, 2)\n",
        "\n",
        "    def forward(self, x):\n",
        "        # -> n, 3, 32, 32\n",
        "        x = self.pool(F.relu(self.conv1(x)))  # -> n, 6, 14, 14\n",
        "        x = self.pool(F.relu(self.conv2(x)))  # -> n, 16, 5, 5\n",
        "        # print(x.shape)\n",
        "        x = x.view(-1, 18 * 37 * 37)            # -> n, 400\n",
        "        x = F.relu(self.fc1(x))               # -> n, 120\n",
        "        x = F.relu(self.fc2(x))               # -> n, 84\n",
        "        x = self.fc3(x)                       # -> n, 10\n",
        "        return x"
      ],
      "execution_count": 0,
      "outputs": []
    },
    {
      "cell_type": "code",
      "metadata": {
        "id": "kyWqRLA-kATC",
        "colab_type": "code",
        "colab": {}
      },
      "source": [
        "network = ConvNet().to(device)\n",
        "\n",
        "lr = 0.01\n",
        "n_epochs = 20\n",
        "\n",
        "optimizer = torch.optim.Adam(network.parameters(), lr=lr, weight_decay=.01)"
      ],
      "execution_count": 0,
      "outputs": []
    },
    {
      "cell_type": "code",
      "metadata": {
        "id": "qMQwR2RAmIBn",
        "colab_type": "code",
        "colab": {}
      },
      "source": [
        "def get_num_correct(preds, labels):\n",
        "  return preds.argmax(dim=1).eq(labels).sum().item()"
      ],
      "execution_count": 0,
      "outputs": []
    },
    {
      "cell_type": "code",
      "metadata": {
        "id": "n6JeYpq5h_4J",
        "colab_type": "code",
        "colab": {}
      },
      "source": [
        "\n",
        "# for epoch in range(n_epochs):\n",
        "\n",
        "#   total_loss = 0\n",
        "#   total_correct = 0\n",
        "\n",
        "#   for batch in data_loaders['train']:\n",
        "#     images, labels = batch\n",
        "\n",
        "#     images = images.to(device)\n",
        "#     labels = labels.to(device)\n",
        "\n",
        "#     preds = network(images)\n",
        "#     loss = F.cross_entropy(preds, labels)\n",
        "\n",
        "#     optimizer.zero_grad()\n",
        "#     loss.backward()\n",
        "#     optimizer.step()\n",
        "\n",
        "#     total_loss += loss.item()\n",
        "#     total_correct += get_num_correct(preds, labels)\n",
        "\n",
        "#   print(\"epoch:\", epoch+1, \"accuracy:\", total_correct/len(data_loaders['train']), \n",
        "#         \"loss:\", total_loss)\n",
        "#   with torch.no_grad():\n",
        "#     total_loss = 0\n",
        "#     total_correct = 0\n",
        "#     for batch in data_loaders['val']:\n",
        "#       images, labels = batch\n",
        "#       images = images.to(device)\n",
        "#       labels = labels.to(device)\n",
        "#       preds = network(images)\n",
        "#       loss = F.cross_entropy(preds, labels)\n",
        "\n",
        "#       total_loss += loss.item()\n",
        "#       total_correct += get_num_correct(preds, labels)\n",
        "#     print(\"val_accuracy:\", total_correct/len(data_loaders['val']), \n",
        "#       \"val_loss:\", total_loss)\n",
        "#     print(\"=\"*200)"
      ],
      "execution_count": 0,
      "outputs": []
    },
    {
      "cell_type": "code",
      "metadata": {
        "id": "KahaaObNAs1C",
        "colab_type": "code",
        "colab": {}
      },
      "source": [
        "model = models.mobilenet_v2(pretrained=True)\n",
        "model = model.to(device)"
      ],
      "execution_count": 0,
      "outputs": []
    },
    {
      "cell_type": "code",
      "metadata": {
        "id": "Rv4BdJgqCgps",
        "colab_type": "code",
        "colab": {}
      },
      "source": [
        "for params in model.parameters():\n",
        "  params.required_grad = False"
      ],
      "execution_count": 0,
      "outputs": []
    },
    {
      "cell_type": "code",
      "metadata": {
        "id": "XD2nf_VLDGeA",
        "colab_type": "code",
        "colab": {}
      },
      "source": [
        "model.classifier[1] = nn.Linear(1280, 2).to(device)"
      ],
      "execution_count": 0,
      "outputs": []
    },
    {
      "cell_type": "code",
      "metadata": {
        "id": "dLfPuzp6Ftd7",
        "colab_type": "code",
        "outputId": "eb2df9cb-a9bc-4a40-bc41-7d9882b978ab",
        "colab": {
          "base_uri": "https://localhost:8080/",
          "height": 336
        }
      },
      "source": [
        "criterion = nn.BCELoss()\n",
        "optimizer = torch.optim.Adam(model.parameters(), lr=0.001)\n",
        "\n",
        "epochs = 10\n",
        "\n",
        "for epoch in range(epochs):\n",
        "  total_loss = 0\n",
        "  total_correct = 0\n",
        "  model.train()\n",
        "  for i, batch in enumerate(data_loaders['train']):\n",
        "    images, labels = batch\n",
        "\n",
        "    images = images.to(device)\n",
        "    labels = labels.to(device)\n",
        "\n",
        "    preds = model(images)\n",
        "\n",
        "    loss = F.cross_entropy(preds, labels)\n",
        "\n",
        "    optimizer.zero_grad()\n",
        "    loss.backward()\n",
        "    optimizer.step()\n",
        "\n",
        "    total_loss += loss.item()\n",
        "    total_correct += get_num_correct(preds, labels)\n",
        "    # print('Batch:', i+1)\n",
        "  print('Epoch:', epoch+1, 'Accuracy:',total_correct/8000, 'loss:', total_loss)\n",
        "  with torch.no_grad():\n",
        "    total_correct = 0\n",
        "    total_loss = 0\n",
        "\n",
        "    for i, batch in enumerate(data_loaders['val']):\n",
        "      images, labels = batch\n",
        "      images = images.to(device)\n",
        "      labels = labels.to(device)\n",
        "\n",
        "      preds = model(images)\n",
        "      # print(preds, labels)\n",
        "      total_correct += get_num_correct(preds, labels)\n",
        "\n",
        "      total_loss += F.cross_entropy(preds, labels).item()\n",
        "    print('val_Accuracy:',total_correct/2000, 'val_loss:', total_loss)\n"
      ],
      "execution_count": 0,
      "outputs": [
        {
          "output_type": "stream",
          "text": [
            "Epoch: 1 Accuracy: 0.863 loss: 76.28721474856138\n",
            "val_Accuracy: 0.8975 val_loss: 15.675195276737213\n",
            "Epoch: 2 Accuracy: 0.88875 loss: 62.5226951315999\n",
            "val_Accuracy: 0.9405 val_loss: 9.746228214353323\n",
            "Epoch: 3 Accuracy: 0.901375 loss: 57.37734595686197\n",
            "val_Accuracy: 0.936 val_loss: 9.895741950720549\n",
            "Epoch: 4 Accuracy: 0.91 loss: 52.66276906430721\n",
            "Epoch: 5 Accuracy: 0.909625 loss: 52.42779826372862\n",
            "val_Accuracy: 0.9405 val_loss: 10.253840684890747\n",
            "Epoch: 6 Accuracy: 0.91175 loss: 50.55378517508507\n",
            "val_Accuracy: 0.9535 val_loss: 8.048787355422974\n",
            "Epoch: 7 Accuracy: 0.913125 loss: 49.670569594949484\n",
            "val_Accuracy: 0.949 val_loss: 8.381430223584175\n",
            "Epoch: 8 Accuracy: 0.91625 loss: 48.0724261701107\n",
            "val_Accuracy: 0.9385 val_loss: 8.940534438937902\n",
            "Epoch: 9 Accuracy: 0.91925 loss: 46.535815730690956\n",
            "val_Accuracy: 0.9475 val_loss: 8.844832267612219\n",
            "Epoch: 10 Accuracy: 0.92075 loss: 45.30597477406263\n",
            "val_Accuracy: 0.949 val_loss: 7.494812456890941\n"
          ],
          "name": "stdout"
        }
      ]
    },
    {
      "cell_type": "code",
      "metadata": {
        "id": "v5HmenOCHxY5",
        "colab_type": "code",
        "outputId": "13ef84cc-9334-4d84-f2cc-dbc74c20573b",
        "colab": {
          "base_uri": "https://localhost:8080/",
          "height": 229
        }
      },
      "source": [
        "with torch.no_grad():\n",
        "  total_correct = 0\n",
        "  total_loss = 0\n",
        "\n",
        "  for i, batch in enumerate(data_loaders['val']):\n",
        "    images, labels = batch\n",
        "    images = images.to(device)\n",
        "    labels = labels.to(device)\n",
        "\n",
        "    preds = model(images)\n",
        "    print(preds.argmax(dim=1))\n",
        "    print(labels)\n",
        "    print('='*200)\n",
        "    total_correct += get_num_correct(preds, labels)\n",
        "\n",
        "    total_loss += F.cross_entropy(preds, labels).item()\n",
        "  print('Accuracy:',total_correct/2000, 'loss:', total_loss)"
      ],
      "execution_count": 0,
      "outputs": [
        {
          "output_type": "error",
          "ename": "NameError",
          "evalue": "ignored",
          "traceback": [
            "\u001b[0;31m---------------------------------------------------------------------------\u001b[0m",
            "\u001b[0;31mNameError\u001b[0m                                 Traceback (most recent call last)",
            "\u001b[0;32m<ipython-input-1-59c7fed6ec65>\u001b[0m in \u001b[0;36m<module>\u001b[0;34m()\u001b[0m\n\u001b[0;32m----> 1\u001b[0;31m \u001b[0;32mwith\u001b[0m \u001b[0mtorch\u001b[0m\u001b[0;34m.\u001b[0m\u001b[0mno_grad\u001b[0m\u001b[0;34m(\u001b[0m\u001b[0;34m)\u001b[0m\u001b[0;34m:\u001b[0m\u001b[0;34m\u001b[0m\u001b[0;34m\u001b[0m\u001b[0m\n\u001b[0m\u001b[1;32m      2\u001b[0m   \u001b[0mtotal_correct\u001b[0m \u001b[0;34m=\u001b[0m \u001b[0;36m0\u001b[0m\u001b[0;34m\u001b[0m\u001b[0;34m\u001b[0m\u001b[0m\n\u001b[1;32m      3\u001b[0m   \u001b[0mtotal_loss\u001b[0m \u001b[0;34m=\u001b[0m \u001b[0;36m0\u001b[0m\u001b[0;34m\u001b[0m\u001b[0;34m\u001b[0m\u001b[0m\n\u001b[1;32m      4\u001b[0m \u001b[0;34m\u001b[0m\u001b[0m\n\u001b[1;32m      5\u001b[0m   \u001b[0;32mfor\u001b[0m \u001b[0mi\u001b[0m\u001b[0;34m,\u001b[0m \u001b[0mbatch\u001b[0m \u001b[0;32min\u001b[0m \u001b[0menumerate\u001b[0m\u001b[0;34m(\u001b[0m\u001b[0mdata_loaders\u001b[0m\u001b[0;34m[\u001b[0m\u001b[0;34m'val'\u001b[0m\u001b[0;34m]\u001b[0m\u001b[0;34m)\u001b[0m\u001b[0;34m:\u001b[0m\u001b[0;34m\u001b[0m\u001b[0;34m\u001b[0m\u001b[0m\n",
            "\u001b[0;31mNameError\u001b[0m: name 'torch' is not defined"
          ]
        }
      ]
    }
  ]
}